{
 "cells": [
  {
   "cell_type": "markdown",
   "id": "e228e060-82a8-4cac-9201-c2b4df02d069",
   "metadata": {},
   "source": [
    "datatypes: datatypes is a values where we can store into the variable\n",
    "There are 5 types\n",
    "1. numeric\n",
    "   * Integer - 10,12,13,0,-13,-12\n",
    "   * float - 1.2  -decimal point we can store\n",
    "   * complex- x+iy \n",
    "\n",
    "2. Boolean\n",
    "   * true\n",
    "   * false\n",
    "\n",
    "3. set\n",
    "\n",
    "4. Dictionary\n",
    "\n",
    "5. sequence type\n",
    "   * string\n",
    "   * list\n",
    "   * tuples"
   ]
  },
  {
   "cell_type": "code",
   "execution_count": null,
   "id": "62a9e46c-9ded-4cb3-9a6c-57ffcdc84263",
   "metadata": {},
   "outputs": [],
   "source": [
    "1. numeric :\n",
    "   * Integer - 10,12,13,0,-13,-12--------> whole numbers worth can be any length like numbers..\n",
    "   * float - 1.2 -----------> float stores decimal point numbers like .. 1.2,   it can be accurate to with in 15 decimal places\n",
    "   * complex- x+iy ----------> An imaginary number contains an arranged pair that is x+iy ,   ex: 2+4j,etc...\n"
   ]
  },
  {
   "cell_type": "code",
   "execution_count": 3,
   "id": "3d5f0603-b006-433a-9a70-fa3898075cbd",
   "metadata": {},
   "outputs": [
    {
     "name": "stdout",
     "output_type": "stream",
     "text": [
      "5\n",
      "<class 'int'>\n"
     ]
    }
   ],
   "source": [
    "a = 5\n",
    "print(a)\n",
    "print(type(a))"
   ]
  },
  {
   "cell_type": "code",
   "execution_count": 7,
   "id": "874be020-41a1-41d9-be23-dade9378b34c",
   "metadata": {},
   "outputs": [
    {
     "name": "stdout",
     "output_type": "stream",
     "text": [
      "40.5\n",
      "<class 'float'>\n"
     ]
    }
   ],
   "source": [
    "b = 40.5\n",
    "print(b)\n",
    "print(type(b))"
   ]
  },
  {
   "cell_type": "code",
   "execution_count": 11,
   "id": "5c4dd639-22d8-4642-b0e6-45861319b85c",
   "metadata": {},
   "outputs": [
    {
     "name": "stdout",
     "output_type": "stream",
     "text": [
      "(1+3j)\n",
      "<class 'complex'>\n"
     ]
    }
   ],
   "source": [
    "c =1+3j\n",
    "print(c)\n",
    "print(type(c))"
   ]
  },
  {
   "cell_type": "code",
   "execution_count": null,
   "id": "1a6cb624-77de-4263-952b-512b26e7f6f6",
   "metadata": {},
   "outputs": [],
   "source": [
    "5. sequence type----> collection of characters \n",
    "   * string-----> it is the collection characters sourrended by (''),(\"\"),(''' ''')\n",
    "   * list\n",
    "   * tuples"
   ]
  },
  {
   "cell_type": "code",
   "execution_count": 17,
   "id": "3ad94297-1dbc-49ee-949f-4404c23d586d",
   "metadata": {},
   "outputs": [
    {
     "name": "stdout",
     "output_type": "stream",
     "text": [
      "hello\n",
      "<class 'str'>\n"
     ]
    }
   ],
   "source": [
    "#strings\n",
    "a = \"hello\"\n",
    "print(a)\n",
    "print(type(a))"
   ]
  },
  {
   "cell_type": "code",
   "execution_count": 31,
   "id": "003f161c-1698-4d34-bbac-df5192a4d27b",
   "metadata": {},
   "outputs": [
    {
     "data": {
      "text/plain": [
       "('H', 'E')"
      ]
     },
     "execution_count": 31,
     "metadata": {},
     "output_type": "execute_result"
    }
   ],
   "source": [
    "#indexcing-----> start from the zero.\n",
    "a = \"HELLO\"\n",
    "a[0], a[1]"
   ]
  },
  {
   "cell_type": "code",
   "execution_count": null,
   "id": "bc21a4fb-eb0b-491c-8c5e-110950c62d8a",
   "metadata": {},
   "outputs": [],
   "source": [
    "#range ---\n",
    "range(0,n)------> 0 to n-1\n",
    "range(0,5)----->1,2,3,4\n",
    "range(2,6)-------->2,3,4,5"
   ]
  },
  {
   "cell_type": "code",
   "execution_count": 57,
   "id": "68c6f871-9a3a-4322-832c-bededb39267b",
   "metadata": {},
   "outputs": [
    {
     "data": {
      "text/plain": [
       "('Akshay', 'kshay', 'shay', 'hay', 'ay', 'y', '')"
      ]
     },
     "execution_count": 57,
     "metadata": {},
     "output_type": "execute_result"
    }
   ],
   "source": [
    "#slicing --->[start:end:stepsize]------> it is a way to extract subset of elements. \n",
    "#[strat:end]\n",
    "#postive index\n",
    "a = \"Akshay\"\n",
    "a[0:7], a[1:7], a[2:7], a[3:7], a[4:7], a[5:7], a[6:7]"
   ]
  },
  {
   "cell_type": "code",
   "execution_count": 79,
   "id": "1562165d-d0a7-4b9a-95b1-addd973a2f3c",
   "metadata": {},
   "outputs": [
    {
     "data": {
      "text/plain": [
       "('y', 'a', 'h', 's', 'k', 'a')"
      ]
     },
     "execution_count": 79,
     "metadata": {},
     "output_type": "execute_result"
    }
   ],
   "source": [
    "#negative index\n",
    "a = \"akshay\"\n",
    "a[-1],a[-2],a[-3],a[-4],a[-5],a[-6]\n"
   ]
  },
  {
   "cell_type": "code",
   "execution_count": 81,
   "id": "12f3f3fe-24fc-42ee-8d3f-8d97c4ea3d48",
   "metadata": {},
   "outputs": [
    {
     "data": {
      "text/plain": [
       "'aksh'"
      ]
     },
     "execution_count": 81,
     "metadata": {},
     "output_type": "execute_result"
    }
   ],
   "source": [
    "a = \"akshay\"\n",
    "a[:-2]"
   ]
  },
  {
   "cell_type": "code",
   "execution_count": 97,
   "id": "c0b94225-4f40-42cb-9cbb-afa2572f046c",
   "metadata": {},
   "outputs": [
    {
     "data": {
      "text/plain": [
       "('REFRIGERATOR', 'RFIEAO', 'RRET', 'RIA', 'RGO', 'RE', 'RR')"
      ]
     },
     "execution_count": 97,
     "metadata": {},
     "output_type": "execute_result"
    }
   ],
   "source": [
    "#[start:end:stepsize]\n",
    "#postive index\n",
    "b = \"REFRIGERATOR\"\n",
    "b[0:12:1],b[0:12:2],b[0:12:3],b[0:12:4],b[0:12:5],b[0:12:6],b[0:12:7]"
   ]
  },
  {
   "cell_type": "code",
   "execution_count": 99,
   "id": "e5c84b16-1b61-4a57-88ef-d7117d6e50d1",
   "metadata": {},
   "outputs": [
    {
     "data": {
      "text/plain": [
       "'RFIEAO'"
      ]
     },
     "execution_count": 99,
     "metadata": {},
     "output_type": "execute_result"
    }
   ],
   "source": [
    "#negative index\n",
    "b = \"REFRIGERATOR\"\n",
    "b[-12::2]"
   ]
  },
  {
   "cell_type": "code",
   "execution_count": 6,
   "id": "3f504469-290a-439e-8737-3a444b387a89",
   "metadata": {},
   "outputs": [
    {
     "name": "stdout",
     "output_type": "stream",
     "text": [
      "hello what's going on\n",
      "<class 'str'>\n"
     ]
    }
   ],
   "source": [
    "a = \"hello what's going on\"\n",
    "print(a)\n",
    "print(type(a))"
   ]
  },
  {
   "cell_type": "code",
   "execution_count": 8,
   "id": "f7979d55-86d2-400b-98ce-5eca2fe5cd31",
   "metadata": {},
   "outputs": [
    {
     "name": "stdout",
     "output_type": "stream",
     "text": [
      "They said,\"what's going on\"\n",
      "<class 'str'>\n"
     ]
    }
   ],
   "source": [
    "a = \"They said,\\\"what\\'s going on\\\"\"\n",
    "print(a)\n",
    "print(type(a))"
   ]
  },
  {
   "cell_type": "code",
   "execution_count": 18,
   "id": "350a4e12-ca16-46b9-b9cc-5969575d0bcc",
   "metadata": {},
   "outputs": [
    {
     "name": "stdout",
     "output_type": "stream",
     "text": [
      "Hello World\n",
      "11\n",
      "hello world\n",
      "HELLO WORLD\n"
     ]
    }
   ],
   "source": [
    "##26-10-24\n",
    "#string methods :\n",
    "text = \"Hello World\"\n",
    "print(text)\n",
    "a = len(text)\n",
    "print(a)\n",
    "print(text.lower())\n",
    "print(text.upper())"
   ]
  },
  {
   "cell_type": "code",
   "execution_count": 22,
   "id": "d90d645c-94ce-47ab-812e-5ff3347ff44d",
   "metadata": {},
   "outputs": [
    {
     "name": "stdout",
     "output_type": "stream",
     "text": [
      "     Hello world\n",
      "Hello world\n"
     ]
    }
   ],
   "source": [
    "text = \"     Hello world\"\n",
    "print(text)\n",
    "print(text.strip())#it will remove the space "
   ]
  },
  {
   "cell_type": "code",
   "execution_count": 28,
   "id": "4b421386-af41-45ba-87c0-494716f33fc5",
   "metadata": {},
   "outputs": [
    {
     "name": "stdout",
     "output_type": "stream",
     "text": [
      "Hello world\n",
      "Hello python\n"
     ]
    }
   ],
   "source": [
    "#replace\n",
    "text = \"Hello world\"\n",
    "print(text)\n",
    "print(text.replace(\"world\",\"python\"))"
   ]
  },
  {
   "cell_type": "code",
   "execution_count": 32,
   "id": "7d785394-9e06-4108-9428-3979df0a6b9b",
   "metadata": {},
   "outputs": [
    {
     "name": "stdout",
     "output_type": "stream",
     "text": [
      "apple, banana, mango\n",
      "['apple', ' banana', ' mango']\n"
     ]
    }
   ],
   "source": [
    "#split \n",
    "a = \"apple, banana, mango\"\n",
    "print(a)\n",
    "print(a.split(\",\"))"
   ]
  },
  {
   "cell_type": "code",
   "execution_count": 38,
   "id": "a7ace57b-80b4-40b7-9ec1-16a6ad5241e9",
   "metadata": {},
   "outputs": [
    {
     "name": "stdout",
     "output_type": "stream",
     "text": [
      "ppy!\n",
      "papaya!\n"
     ]
    }
   ],
   "source": [
    "#join function \n",
    "a = \"ppy!\"\n",
    "print(a)\n",
    "print('a'.join(a))#it will join the function in middle of the letter."
   ]
  },
  {
   "cell_type": "code",
   "execution_count": 48,
   "id": "96266910-fe95-4908-85de-34fceeac66a6",
   "metadata": {},
   "outputs": [
    {
     "name": "stdout",
     "output_type": "stream",
     "text": [
      "hello world\n",
      "True\n"
     ]
    }
   ],
   "source": [
    "#startswith\n",
    "a = \"hello world\"\n",
    "print(a)\n",
    "print(a.startswith(\"h\"))"
   ]
  },
  {
   "cell_type": "code",
   "execution_count": 52,
   "id": "cc292350-e184-4dcf-8606-3b53a949f54a",
   "metadata": {},
   "outputs": [
    {
     "name": "stdout",
     "output_type": "stream",
     "text": [
      "hello world\n",
      "True\n"
     ]
    }
   ],
   "source": [
    "#endswith\n",
    "a = \"hello world\"\n",
    "print(a)\n",
    "print(a.endswith(\"d\"))"
   ]
  },
  {
   "cell_type": "code",
   "execution_count": 56,
   "id": "fe7b7b12-9a0a-41e0-9a7b-96a6e93e50a1",
   "metadata": {},
   "outputs": [
    {
     "name": "stdout",
     "output_type": "stream",
     "text": [
      "hello world\n",
      "1\n",
      "4\n"
     ]
    }
   ],
   "source": [
    "#finding the index number\n",
    "a = \"hello world\"\n",
    "print(a)\n",
    "print(a.find(\"e\"))\n",
    "print(a.find(\"o\"))"
   ]
  },
  {
   "cell_type": "code",
   "execution_count": 64,
   "id": "5587d088-33e7-40c5-8b1e-da42dac0696b",
   "metadata": {},
   "outputs": [
    {
     "name": "stdout",
     "output_type": "stream",
     "text": [
      "2\n"
     ]
    }
   ],
   "source": [
    "#counting\n",
    "a = \"hello hello world\"\n",
    "print(a.count(\"hello\"))"
   ]
  },
  {
   "cell_type": "code",
   "execution_count": 66,
   "id": "ffad259a-76a1-4990-a616-2af3d3eea5e5",
   "metadata": {},
   "outputs": [
    {
     "name": "stdout",
     "output_type": "stream",
     "text": [
      "True\n"
     ]
    }
   ],
   "source": [
    "#isalpha ---> it will check the numeric or alphabet\n",
    "text = \"hello\"\n",
    "print(text.isalpha())"
   ]
  },
  {
   "cell_type": "code",
   "execution_count": 68,
   "id": "4faa7bbc-be27-48db-a200-83b66391121f",
   "metadata": {},
   "outputs": [
    {
     "name": "stdout",
     "output_type": "stream",
     "text": [
      "True\n"
     ]
    }
   ],
   "source": [
    "#isnum\n",
    "text = \"hello\"\n",
    "print(text.isalnum())"
   ]
  },
  {
   "cell_type": "code",
   "execution_count": 70,
   "id": "d046e7e3-6075-40d2-a823-6cda20ab71eb",
   "metadata": {},
   "outputs": [
    {
     "name": "stdout",
     "output_type": "stream",
     "text": [
      "Hello\n"
     ]
    }
   ],
   "source": [
    "#capitalize: it will do the capital on the first word\n",
    "text = \"hello\"\n",
    "print(text.capitalize())"
   ]
  },
  {
   "cell_type": "code",
   "execution_count": 72,
   "id": "5fc98580-a118-4af9-9396-b87bd7fdd35d",
   "metadata": {},
   "outputs": [
    {
     "name": "stdout",
     "output_type": "stream",
     "text": [
      "Hello World\n"
     ]
    }
   ],
   "source": [
    "text = \"hello world\"\n",
    "print(text.title())"
   ]
  },
  {
   "cell_type": "code",
   "execution_count": null,
   "id": "28ca9823-5c02-483e-b6df-9b44169ce4fb",
   "metadata": {},
   "outputs": [],
   "source": []
  }
 ],
 "metadata": {
  "kernelspec": {
   "display_name": "Python 3 (ipykernel)",
   "language": "python",
   "name": "python3"
  },
  "language_info": {
   "codemirror_mode": {
    "name": "ipython",
    "version": 3
   },
   "file_extension": ".py",
   "mimetype": "text/x-python",
   "name": "python",
   "nbconvert_exporter": "python",
   "pygments_lexer": "ipython3",
   "version": "3.12.4"
  }
 },
 "nbformat": 4,
 "nbformat_minor": 5
}
