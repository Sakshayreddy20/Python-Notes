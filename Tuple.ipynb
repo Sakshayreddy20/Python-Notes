{
 "cells": [
  {
   "cell_type": "markdown",
   "id": "70f100f0-d3dc-476b-ae6e-94b224cae94a",
   "metadata": {},
   "source": [
    "tuple : collection of items must be seperated by comma , enclosed in parantsis()\n",
    "althought parathesis are not required they are recomended\n",
    "tuple are an  immutable datatypes ----->the elements cannot change after they are generated.\n",
    "ex : a = (10)\n",
    "type(a)\n",
    "int\n",
    "\n",
    "a = (10,)\n",
    "type(a)\n",
    "tuple\n",
    "\n",
    "\n",
    "\n",
    "*****\n",
    "int + int = add\n",
    "int + str = concetnation.\n",
    "*********"
   ]
  },
  {
   "cell_type": "code",
   "execution_count": 11,
   "id": "9b3cba5e-802f-456e-a614-96658e0a3e1e",
   "metadata": {},
   "outputs": [
    {
     "name": "stdout",
     "output_type": "stream",
     "text": [
      "(10, 'hello', 10.5, (1+3j))\n",
      "<class 'tuple'>\n"
     ]
    }
   ],
   "source": [
    "a = (10,\"hello\",10.5, 1+3j)\n",
    "print(a)\n",
    "print(type(a))"
   ]
  },
  {
   "cell_type": "code",
   "execution_count": 15,
   "id": "ff06ebd8-67b8-4b23-bdf1-30e9562f3c97",
   "metadata": {},
   "outputs": [
    {
     "name": "stdout",
     "output_type": "stream",
     "text": [
      "hello\n",
      "<class 'str'>\n"
     ]
    }
   ],
   "source": [
    "a = (\"hello\")\n",
    "print(a)\n",
    "print(type(a))"
   ]
  },
  {
   "cell_type": "code",
   "execution_count": 13,
   "id": "f314563f-79a5-40dd-807f-3141ad48fd5c",
   "metadata": {},
   "outputs": [
    {
     "name": "stdout",
     "output_type": "stream",
     "text": [
      "('hello',)\n",
      "<class 'tuple'>\n"
     ]
    }
   ],
   "source": [
    "a = (\"hello\",)\n",
    "print(a)\n",
    "print(type(a))"
   ]
  },
  {
   "cell_type": "code",
   "execution_count": 17,
   "id": "3532f92f-42bd-4673-9be6-5dbf8f9d4fd5",
   "metadata": {},
   "outputs": [
    {
     "name": "stdout",
     "output_type": "stream",
     "text": [
      "(10, 'hi', 10.9, (10+2j))\n",
      "<class 'tuple'>\n"
     ]
    }
   ],
   "source": [
    "a = 10,'hi',10.9,10+2j\n",
    "print(a)\n",
    "print(type(a))"
   ]
  },
  {
   "cell_type": "code",
   "execution_count": 19,
   "id": "9149a4b2-e86a-46c7-a36d-c4956585f069",
   "metadata": {},
   "outputs": [
    {
     "data": {
      "text/plain": [
       "list"
      ]
     },
     "execution_count": 19,
     "metadata": {},
     "output_type": "execute_result"
    }
   ],
   "source": [
    "a = [10]# bracket in important in list\n",
    "type(a)"
   ]
  },
  {
   "cell_type": "code",
   "execution_count": 25,
   "id": "9768437c-0776-43f1-8e28-d97c79f94869",
   "metadata": {},
   "outputs": [
    {
     "data": {
      "text/plain": [
       "tuple"
      ]
     },
     "execution_count": 25,
     "metadata": {},
     "output_type": "execute_result"
    }
   ],
   "source": [
    "a = 10,#bracket is not important in tuple\n",
    "type(a)"
   ]
  },
  {
   "cell_type": "code",
   "execution_count": 27,
   "id": "1a35b716-e1d0-4e16-abfa-ec250eedeff0",
   "metadata": {},
   "outputs": [
    {
     "ename": "TypeError",
     "evalue": "'tuple' object does not support item assignment",
     "output_type": "error",
     "traceback": [
      "\u001b[1;31m---------------------------------------------------------------------------\u001b[0m",
      "\u001b[1;31mTypeError\u001b[0m                                 Traceback (most recent call last)",
      "Cell \u001b[1;32mIn[27], line 1\u001b[0m\n\u001b[1;32m----> 1\u001b[0m a[\u001b[38;5;241m0\u001b[39m] \u001b[38;5;241m=\u001b[39m \u001b[38;5;241m15\u001b[39m\n\u001b[0;32m      2\u001b[0m a\n",
      "\u001b[1;31mTypeError\u001b[0m: 'tuple' object does not support item assignment"
     ]
    }
   ],
   "source": [
    "a[0] = 15 #tuple is immutable\n",
    "a "
   ]
  },
  {
   "cell_type": "code",
   "execution_count": 41,
   "id": "64c8e453-0dc0-4d77-95a7-25acf48016d3",
   "metadata": {},
   "outputs": [
    {
     "data": {
      "text/plain": [
       "10.8"
      ]
     },
     "execution_count": 41,
     "metadata": {},
     "output_type": "execute_result"
    }
   ],
   "source": [
    "#slicing operations:\n",
    "a = (10, 'hello',10.5,1+3j,[10,10.8,23])\n",
    "a[4][1]"
   ]
  },
  {
   "cell_type": "code",
   "execution_count": 43,
   "id": "a5a5be63-85e2-4657-b461-fe6f58c71c10",
   "metadata": {},
   "outputs": [
    {
     "data": {
      "text/plain": [
       "10.5"
      ]
     },
     "execution_count": 43,
     "metadata": {},
     "output_type": "execute_result"
    }
   ],
   "source": [
    "a = (10, 'hello',10.5,1+3j,[10,10.8,23])\n",
    "a[2]"
   ]
  },
  {
   "cell_type": "code",
   "execution_count": 53,
   "id": "3a9c390f-0985-4c3b-a48d-3c9027e08194",
   "metadata": {},
   "outputs": [
    {
     "data": {
      "text/plain": [
       "(1+2j)"
      ]
     },
     "execution_count": 53,
     "metadata": {},
     "output_type": "execute_result"
    }
   ],
   "source": [
    "a = (10, 'hello',10.5,1+3j,[10,10.8,23],(10,10.8,1+2j)) # we can keep one more tuple in the tuple\n",
    "a[5][2]"
   ]
  },
  {
   "cell_type": "code",
   "execution_count": 51,
   "id": "3ddba8af-bc10-4841-8421-bca1e98cd007",
   "metadata": {},
   "outputs": [
    {
     "data": {
      "text/plain": [
       "list"
      ]
     },
     "execution_count": 51,
     "metadata": {},
     "output_type": "execute_result"
    }
   ],
   "source": [
    "s = ([10, 'hello'])# there is an only list [.....] no comma after the list \n",
    "type(s)"
   ]
  },
  {
   "cell_type": "code",
   "execution_count": 55,
   "id": "d7a3b572-8251-443b-8724-439f1963daa2",
   "metadata": {},
   "outputs": [
    {
     "data": {
      "text/plain": [
       "('hello', 10.5, (1+3j))"
      ]
     },
     "execution_count": 55,
     "metadata": {},
     "output_type": "execute_result"
    }
   ],
   "source": [
    "a = (10, 'hello',10.5,1+3j,[10,10.8,23],(10,10.8,1+2j))\n",
    "a[1:4]"
   ]
  },
  {
   "cell_type": "code",
   "execution_count": 57,
   "id": "7a70a679-f22d-4279-9b0b-a486704ffa14",
   "metadata": {},
   "outputs": [
    {
     "data": {
      "text/plain": [
       "(10.5, (1+3j), [10, 10.8, 23])"
      ]
     },
     "execution_count": 57,
     "metadata": {},
     "output_type": "execute_result"
    }
   ],
   "source": [
    "a = (10, 'hello',10.5,1+3j,[10,10.8,23],(10,10.8,1+2j))\n",
    "a[-4:-1]"
   ]
  },
  {
   "cell_type": "code",
   "execution_count": 59,
   "id": "89b951d0-8c6d-487c-9087-fa6835040a38",
   "metadata": {},
   "outputs": [
    {
     "data": {
      "text/plain": [
       "(10, 10.5, [10, 10.8, 23])"
      ]
     },
     "execution_count": 59,
     "metadata": {},
     "output_type": "execute_result"
    }
   ],
   "source": [
    "a = (10, 'hello',10.5,1+3j,[10,10.8,23],(10,10.8,1+2j))\n",
    "a[0:6:2]"
   ]
  },
  {
   "cell_type": "code",
   "execution_count": 73,
   "id": "7824021f-f49a-4644-99a3-f56f3a90d9f6",
   "metadata": {},
   "outputs": [
    {
     "data": {
      "text/plain": [
       "[10, 10.2]"
      ]
     },
     "execution_count": 73,
     "metadata": {},
     "output_type": "execute_result"
    }
   ],
   "source": [
    "#mutable in list\n",
    "a = [10,10.2,'hi']\n",
    "del a[2]\n",
    "a"
   ]
  },
  {
   "cell_type": "code",
   "execution_count": 75,
   "id": "36b445dc-1406-4b93-b96b-dbed8af724f0",
   "metadata": {},
   "outputs": [
    {
     "ename": "TypeError",
     "evalue": "'tuple' object doesn't support item deletion",
     "output_type": "error",
     "traceback": [
      "\u001b[1;31m---------------------------------------------------------------------------\u001b[0m",
      "\u001b[1;31mTypeError\u001b[0m                                 Traceback (most recent call last)",
      "Cell \u001b[1;32mIn[75], line 3\u001b[0m\n\u001b[0;32m      1\u001b[0m \u001b[38;5;66;03m#immutable in tuple\u001b[39;00m\n\u001b[0;32m      2\u001b[0m a \u001b[38;5;241m=\u001b[39m (\u001b[38;5;241m10\u001b[39m,\u001b[38;5;241m10.2\u001b[39m,\u001b[38;5;124m'\u001b[39m\u001b[38;5;124mhi\u001b[39m\u001b[38;5;124m'\u001b[39m)\n\u001b[1;32m----> 3\u001b[0m \u001b[38;5;28;01mdel\u001b[39;00m a[\u001b[38;5;241m2\u001b[39m]\n\u001b[0;32m      4\u001b[0m a\n",
      "\u001b[1;31mTypeError\u001b[0m: 'tuple' object doesn't support item deletion"
     ]
    }
   ],
   "source": [
    "#immutable in tuple\n",
    "a = (10,10.2,'hi')\n",
    "del a[2]\n",
    "a"
   ]
  },
  {
   "cell_type": "code",
   "execution_count": 77,
   "id": "98a62e92-e32f-4f0a-8c16-75654ac81445",
   "metadata": {},
   "outputs": [
    {
     "name": "stdout",
     "output_type": "stream",
     "text": [
      "('python', 15.36, 25, 'python', 15.36, 25, 'python', 15.36, 25)\n"
     ]
    }
   ],
   "source": [
    "a= ('python', 15.36, 25)\n",
    "b = ('hello', 48.20, 34)\n",
    "print(a*3)"
   ]
  },
  {
   "cell_type": "code",
   "execution_count": 79,
   "id": "5ca87b10-c715-406c-b605-943c10e8d359",
   "metadata": {},
   "outputs": [
    {
     "name": "stdout",
     "output_type": "stream",
     "text": [
      "('python', 15.36, 25, 'hello', 48.2, 34)\n"
     ]
    }
   ],
   "source": [
    "a= ('python', 15.36, 25)\n",
    "b = ('hello', 48.20, 34)\n",
    "print(a+b)#concetination)              "
   ]
  },
  {
   "cell_type": "code",
   "execution_count": 81,
   "id": "21abbffa-701f-4d06-afc5-92a8a598ba49",
   "metadata": {},
   "outputs": [
    {
     "name": "stdout",
     "output_type": "stream",
     "text": [
      "(1, 2, 3, 'hi')\n",
      "4\n"
     ]
    }
   ],
   "source": [
    "#methods \n",
    "a = (1,2,3,'hi')\n",
    "print(a)\n",
    "print(len(a))"
   ]
  },
  {
   "cell_type": "code",
   "execution_count": null,
   "id": "a2c7b98e-c2ca-46a5-9bce-08312d444ab9",
   "metadata": {},
   "outputs": [],
   "source": [
    "#count the length of a \n",
    "a = (1,2,3,'hi')\n",
    "print(a)\n",
    "print(len(a))"
   ]
  },
  {
   "cell_type": "code",
   "execution_count": 85,
   "id": "9453b6ed-59ad-4a15-ada1-752aebcaa59e",
   "metadata": {},
   "outputs": [
    {
     "name": "stdout",
     "output_type": "stream",
     "text": [
      "2\n"
     ]
    }
   ],
   "source": [
    "#count() function\n",
    "a = (1,2,3,'hi',2,3)\n",
    "b = a.count(2)\n",
    "print(b)"
   ]
  },
  {
   "cell_type": "code",
   "execution_count": 87,
   "id": "b00e4fa1-531e-45e2-a639-8a50605f56a3",
   "metadata": {},
   "outputs": [
    {
     "name": "stdout",
     "output_type": "stream",
     "text": [
      "3\n"
     ]
    }
   ],
   "source": [
    "#index\n",
    "a = (1,2,3,'hi',2,3)\n",
    "b = a.index('hi')\n",
    "print(b)"
   ]
  },
  {
   "cell_type": "code",
   "execution_count": 91,
   "id": "1fe4eb3c-a609-4569-b869-d39a39383dc2",
   "metadata": {},
   "outputs": [
    {
     "name": "stdout",
     "output_type": "stream",
     "text": [
      "(1, 2, 3, 4, 5)\n"
     ]
    }
   ],
   "source": [
    "#concat\n",
    "a = (1,2,3)\n",
    "b = a +(4,5)\n",
    "print(b)"
   ]
  },
  {
   "cell_type": "code",
   "execution_count": 97,
   "id": "0a84e432-351f-4cbe-b947-2b4166d0ba33",
   "metadata": {},
   "outputs": [
    {
     "name": "stdout",
     "output_type": "stream",
     "text": [
      "1\n"
     ]
    }
   ],
   "source": [
    "#min\n",
    "a = (1,2,3,4,5,6,7,8,9)\n",
    "b = min(a)\n",
    "print(b)"
   ]
  },
  {
   "cell_type": "code",
   "execution_count": 95,
   "id": "59a5858e-bebc-4418-9748-3301d97800ce",
   "metadata": {},
   "outputs": [
    {
     "name": "stdout",
     "output_type": "stream",
     "text": [
      "9\n"
     ]
    }
   ],
   "source": [
    "#max\n",
    "a = (1,2,3,4,5,6,7,8,9)\n",
    "b = max(a)\n",
    "print(b)"
   ]
  },
  {
   "cell_type": "code",
   "execution_count": 99,
   "id": "6045580b-ef45-4ac2-adc8-3750abd9dee6",
   "metadata": {},
   "outputs": [
    {
     "data": {
      "text/plain": [
       "(9, 8, 7, 6, 5, 4, 3, 2, 1)"
      ]
     },
     "execution_count": 99,
     "metadata": {},
     "output_type": "execute_result"
    }
   ],
   "source": [
    "#reverse----->we can use for both list and tuple\n",
    "a = (1,2,3,4,5,6,7,8,9)\n",
    "a[::-1]"
   ]
  },
  {
   "cell_type": "code",
   "execution_count": 105,
   "id": "a0a3deba-300f-41ff-82be-9d75bb59dfd9",
   "metadata": {},
   "outputs": [
    {
     "name": "stdout",
     "output_type": "stream",
     "text": [
      "<class 'tuple'>\n",
      "<class 'list'>\n"
     ]
    }
   ],
   "source": [
    "#converting tuple to list\n",
    "a = (1,2,3,4,5)\n",
    "print(type(a))\n",
    "b = list(a)\n",
    "print(type(b))"
   ]
  },
  {
   "cell_type": "raw",
   "id": "46db2a58-b2b1-4416-947f-201c4182b202",
   "metadata": {},
   "source": [
    "Boolean ------->True or False"
   ]
  },
  {
   "cell_type": "code",
   "execution_count": 107,
   "id": "fe038a1f-e977-4fd7-b36f-677f9761e34f",
   "metadata": {},
   "outputs": [
    {
     "data": {
      "text/plain": [
       "bool"
      ]
     },
     "execution_count": 107,
     "metadata": {},
     "output_type": "execute_result"
    }
   ],
   "source": [
    "type(True)\n",
    "type(False)"
   ]
  },
  {
   "cell_type": "code",
   "execution_count": null,
   "id": "03036d24-ab43-4327-bfb8-b87df82686bc",
   "metadata": {},
   "outputs": [],
   "source": []
  }
 ],
 "metadata": {
  "kernelspec": {
   "display_name": "Python 3 (ipykernel)",
   "language": "python",
   "name": "python3"
  },
  "language_info": {
   "codemirror_mode": {
    "name": "ipython",
    "version": 3
   },
   "file_extension": ".py",
   "mimetype": "text/x-python",
   "name": "python",
   "nbconvert_exporter": "python",
   "pygments_lexer": "ipython3",
   "version": "3.12.4"
  }
 },
 "nbformat": 4,
 "nbformat_minor": 5
}
