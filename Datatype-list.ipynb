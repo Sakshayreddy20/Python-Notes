{
 "cells": [
  {
   "cell_type": "raw",
   "id": "c1b378f4-48b0-4cf5-a63a-b3ffbf0fb5e7",
   "metadata": {},
   "source": [
    "List :-  \n",
    "    A list is a collection of different datatype values or items or elements.\n",
    "    python lists are mutable means we can change the elements after forming\n",
    "    list can be defined in the square brackets with the comma seperated values \n",
    "    list data type can hold six python datatypes"
   ]
  },
  {
   "cell_type": "code",
   "execution_count": 5,
   "id": "19316217-a124-424f-ba4f-32e6c3319fc2",
   "metadata": {},
   "outputs": [
    {
     "name": "stdout",
     "output_type": "stream",
     "text": [
      "My name is Akshay and I am 21 years old\n"
     ]
    }
   ],
   "source": [
    "# formate function\n",
    "name = \"Akshay\"\n",
    "age = 21\n",
    "a = (\"My name is {} and I am {} years old\".format(name,age))\n",
    "print(a)"
   ]
  },
  {
   "cell_type": "code",
   "execution_count": 11,
   "id": "0e2dc0d5-fa71-4100-a483-a87d5ebc6d8b",
   "metadata": {},
   "outputs": [
    {
     "name": "stdout",
     "output_type": "stream",
     "text": [
      "bunny and sunny are best friends\n"
     ]
    }
   ],
   "source": [
    "print(\"{} and {} are best friends\".format(\"bunny\",\"sunny\"))"
   ]
  },
  {
   "cell_type": "code",
   "execution_count": 13,
   "id": "5515109f-f04c-4249-8e28-8421fdab15b5",
   "metadata": {},
   "outputs": [
    {
     "name": "stdout",
     "output_type": "stream",
     "text": [
      "bunny,sunny and Akhi are best friends\n"
     ]
    }
   ],
   "source": [
    "print(\"{},{} and {} are best friends\".format(\"bunny\",\"sunny\",\"Akhi\"))"
   ]
  },
  {
   "cell_type": "code",
   "execution_count": 21,
   "id": "0542a70e-9705-480f-81a4-04cdc7094528",
   "metadata": {},
   "outputs": [
    {
     "name": "stdout",
     "output_type": "stream",
     "text": [
      "Hi i am integer......... my value is 8\n",
      " hi im float......my value is 0.500000\n",
      " hi i an string......my value is Hello\n"
     ]
    }
   ],
   "source": [
    "integer = 8\n",
    "float = 0.5\n",
    "string = \"Hello\"\n",
    "print(\"Hi i am integer......... my value is %d\\n hi im float......my value is %f\\n hi i an string......my value is %s\"%(integer,float,string)) "
   ]
  },
  {
   "cell_type": "code",
   "execution_count": 25,
   "id": "b3dbe37e-4fac-47f7-b2ba-feca678d6c16",
   "metadata": {},
   "outputs": [
    {
     "name": "stdout",
     "output_type": "stream",
     "text": [
      "[10, 10.0, 'python', (1+3j)]\n",
      "<class 'list'>\n"
     ]
    }
   ],
   "source": [
    "#python lists\n",
    "\n",
    "a = [10, 10.0, \"python\", 1+3j]\n",
    "print(a)\n",
    "print(type(a))"
   ]
  },
  {
   "cell_type": "code",
   "execution_count": 41,
   "id": "91f8670f-3918-4663-964d-a8ddb90632cc",
   "metadata": {},
   "outputs": [
    {
     "name": "stdout",
     "output_type": "stream",
     "text": [
      "10.0\n",
      "[10.0, 'python']\n"
     ]
    }
   ],
   "source": [
    "#mutable----------> mutable means we can change the elements after forming\n",
    "a = [10,10.0,\"python\",1+3j]\n",
    "print(a[1])\n",
    "print(a[1:3])"
   ]
  },
  {
   "cell_type": "code",
   "execution_count": 5,
   "id": "58f25e56-6d3e-4791-b322-37df770219cd",
   "metadata": {},
   "outputs": [
    {
     "name": "stdout",
     "output_type": "stream",
     "text": [
      "Employee data\n",
      "Name: john, id: 102, country:USA\n",
      "Department\n",
      "department1: \n",
      "Name :cs, id:10\n",
      " Department2: \n",
      " name :IT, id:11\n",
      "Hod details\n",
      "cs Hod name:holding, ID:10\n",
      "IT hod name:bewon, id: 11\n"
     ]
    }
   ],
   "source": [
    "#example:\n",
    "emp = [\"john\", 102, \"USA\"]\n",
    "dep1 = ['cs',10]\n",
    "dep2 = ['IT',11]\n",
    "hod_cse = [10,'holding']\n",
    "hod_it = [11, 'bewon']\n",
    "print(\"Employee data\")\n",
    "print(\"Name: %s, id: %d, country:%s\"%(emp[0],emp[1],emp[2]))\n",
    "print(\"Department\")\n",
    "print(\"department1: \\nName :%s, id:%d\\n Department2: \\n name :%s, id:%d\"%(dep1[0],dep1[1],dep2[0],dep2[1]))\n",
    "print(\"Hod details\")\n",
    "print(\"cs Hod name:%s, ID:%d\"%(hod_cse[1],hod_cse[0]))\n",
    "print(\"IT hod name:%s, id: %d\"%(hod_it[1],hod_it[0]))\n"
   ]
  },
  {
   "cell_type": "code",
   "execution_count": 11,
   "id": "c7604592-043e-4b21-9c87-5deabffee787",
   "metadata": {},
   "outputs": [
    {
     "name": "stdout",
     "output_type": "stream",
     "text": [
      "[12, 13, 14, 16, 18]\n",
      "[12, 13, 14, 16, 18, 12, 13, 14, 16, 18]\n",
      "[12, 13, 14, 16, 18, 12, 13, 14, 16, 18]\n"
     ]
    }
   ],
   "source": [
    "#operations\n",
    "#Repetation\n",
    "a = [12,13,14,16,18]\n",
    "print(a)\n",
    "print(a*2)\n",
    "b = a*2\n",
    "print(b)"
   ]
  },
  {
   "cell_type": "code",
   "execution_count": 13,
   "id": "71c5c32c-1c2f-4ff9-8d3b-57dba055250a",
   "metadata": {},
   "outputs": [
    {
     "name": "stdout",
     "output_type": "stream",
     "text": [
      "[1, 2, 3, 4, 5, 6, 7, 8, 9, 10]\n"
     ]
    }
   ],
   "source": [
    "#Concatenetion\n",
    "a = [1,2,3,4,5]\n",
    "b = [6,7,8,9,10]\n",
    "print(a+b)"
   ]
  },
  {
   "cell_type": "code",
   "execution_count": 19,
   "id": "b3ba6ebf-79b4-4250-80d4-bf1d7e70152f",
   "metadata": {},
   "outputs": [
    {
     "name": "stdout",
     "output_type": "stream",
     "text": [
      "[1, 2, 3, 4]\n"
     ]
    }
   ],
   "source": [
    "#list methods\n",
    "#Append---------> Adds an element to the end of the list\n",
    "a = [1,2,3]\n",
    "a.append(4)\n",
    "print(a)"
   ]
  },
  {
   "cell_type": "code",
   "execution_count": 23,
   "id": "74cd450d-2ccc-4bdf-bbdc-0e84ec0abf01",
   "metadata": {},
   "outputs": [
    {
     "name": "stdout",
     "output_type": "stream",
     "text": [
      "[1, 2, 3, 4, 5]\n"
     ]
    }
   ],
   "source": [
    "#insert----------> insert an element at a specifird index\n",
    "a = [1,2,3,4]\n",
    "a.insert(4,5)\n",
    "print(a)"
   ]
  },
  {
   "cell_type": "code",
   "execution_count": 25,
   "id": "bc76d409-e5b8-4eb4-9fba-16a82f4fae81",
   "metadata": {},
   "outputs": [
    {
     "name": "stdout",
     "output_type": "stream",
     "text": [
      "[1, 2, 3, 4, 5, 6]\n"
     ]
    }
   ],
   "source": [
    "#extend----------> append the elements of another list to the currenet list\n",
    "a = [1,2,3]\n",
    "b = [4,5,6]\n",
    "a.extend(b)\n",
    "print(a)"
   ]
  },
  {
   "cell_type": "code",
   "execution_count": 29,
   "id": "24d3fb99-82f8-4e64-ad39-dc7df44a3b48",
   "metadata": {},
   "outputs": [
    {
     "name": "stdout",
     "output_type": "stream",
     "text": [
      "[1, 3, 4]\n"
     ]
    }
   ],
   "source": [
    "#remove-------> it will remove the first occurance of specified element\n",
    "a = [1,2,3,4]\n",
    "a.remove(2)\n",
    "print(a)"
   ]
  },
  {
   "cell_type": "code",
   "execution_count": 33,
   "id": "8ad8ee06-0911-4102-92ff-ac438556d672",
   "metadata": {},
   "outputs": [
    {
     "name": "stdout",
     "output_type": "stream",
     "text": [
      "2\n"
     ]
    }
   ],
   "source": [
    "#index-----> returns the index of first occurance of a specified element\n",
    "a = [1,2,3,4]\n",
    "b = a.index(3)\n",
    "print(b)"
   ]
  },
  {
   "cell_type": "code",
   "execution_count": 39,
   "id": "5a4d0d9a-bf00-4061-b092-1a05e40075e6",
   "metadata": {},
   "outputs": [
    {
     "name": "stdout",
     "output_type": "stream",
     "text": [
      "3\n"
     ]
    }
   ],
   "source": [
    "#count----------> returns the no.of items in a specified element appers in the list\n",
    "a = [1,2,3,2,4,5,6,2,4,3,5,6]\n",
    "b = a.count(2)\n",
    "print(b)"
   ]
  },
  {
   "cell_type": "code",
   "execution_count": 59,
   "id": "c503ff03-3031-49b2-af92-a0bc942d473b",
   "metadata": {},
   "outputs": [
    {
     "name": "stdout",
     "output_type": "stream",
     "text": [
      "[1, 2, 3, 4, 5, 6, 7]\n"
     ]
    }
   ],
   "source": [
    "#sort---------------> sorts the list in ascending order\n",
    "a = [1,3,2,4,5,7,6]\n",
    "a.sort()\n",
    "print(a)"
   ]
  },
  {
   "cell_type": "code",
   "execution_count": 41,
   "id": "59e6832e-5b6e-40bf-9b42-f33ad7df3dd0",
   "metadata": {},
   "outputs": [
    {
     "name": "stdout",
     "output_type": "stream",
     "text": [
      "[1, 2, 3, 4, 5, 6, 7]\n"
     ]
    }
   ],
   "source": [
    "#sort---------------> sorts the list in ascending order\n",
    "a = [1,3,2,4,5,7,6]\n",
    "a.sort()\n",
    "print(a)"
   ]
  },
  {
   "cell_type": "code",
   "execution_count": 43,
   "id": "5f377548-00f2-4d82-975f-30b011af7645",
   "metadata": {},
   "outputs": [
    {
     "name": "stdout",
     "output_type": "stream",
     "text": [
      "[7, 6, 5, 4, 3, 2, 1]\n"
     ]
    }
   ],
   "source": [
    "#reverse--------> reverse the order of elements in the list\n",
    "a = [1,2,3,4,5,6,7]\n",
    "a.reverse()\n",
    "print(a)"
   ]
  },
  {
   "cell_type": "code",
   "execution_count": 47,
   "id": "d197a962-6107-4cc0-a3e7-ce566c7cb169",
   "metadata": {},
   "outputs": [
    {
     "name": "stdout",
     "output_type": "stream",
     "text": [
      "[1, 2, 3, 4, 5, 6]\n"
     ]
    }
   ],
   "source": [
    "#copy-------> creates a copy of list\n",
    "a = [1,2,3,4,5,6]\n",
    "b = a.copy()\n",
    "print(b)"
   ]
  },
  {
   "cell_type": "code",
   "execution_count": 49,
   "id": "79653f42-a081-4330-b70f-c9b1b8b1ff59",
   "metadata": {},
   "outputs": [
    {
     "name": "stdout",
     "output_type": "stream",
     "text": [
      "[]\n"
     ]
    }
   ],
   "source": [
    "#clear()----->removes all elements from the list\n",
    "a = [1,2,3,4]\n",
    "a.clear()\n",
    "print(a)"
   ]
  },
  {
   "cell_type": "code",
   "execution_count": 51,
   "id": "8a4529f6-f59e-4ae9-8960-fcf6c447e6ac",
   "metadata": {},
   "outputs": [
    {
     "name": "stdout",
     "output_type": "stream",
     "text": [
      "[1, 2, 3, 4, 5, 6]\n"
     ]
    }
   ],
   "source": [
    "#min----------> returns the smallestelement\n",
    "a = [1,2,3,4,5,6]\n",
    "b = min(a)\n",
    "print(a)"
   ]
  },
  {
   "cell_type": "code",
   "execution_count": 53,
   "id": "8385e80f-dfda-4bb2-881f-ec9edd5998db",
   "metadata": {},
   "outputs": [
    {
     "name": "stdout",
     "output_type": "stream",
     "text": [
      "[1, 2, 3, 4, 5, 6]\n"
     ]
    }
   ],
   "source": [
    "#max -------> returns the max numbers\n",
    "a = [1,2,3,4,5,6]\n",
    "b = max(a)\n",
    "print(a)"
   ]
  },
  {
   "cell_type": "code",
   "execution_count": 57,
   "id": "06143330-8bba-48b5-9a4e-3dddda4ca6dc",
   "metadata": {},
   "outputs": [
    {
     "name": "stdout",
     "output_type": "stream",
     "text": [
      "4\n",
      "[1, 2, 3, 5, 6, 7]\n"
     ]
    }
   ],
   "source": [
    "#pop--------->removes and return the elements of specified index\n",
    "a = [1,2,3,4,5,6,7]\n",
    "b = a.pop(3)\n",
    "print(b)\n",
    "print(a)"
   ]
  },
  {
   "cell_type": "code",
   "execution_count": null,
   "id": "0d242012-17e4-4f82-9c52-490fef305709",
   "metadata": {},
   "outputs": [],
   "source": []
  }
 ],
 "metadata": {
  "kernelspec": {
   "display_name": "Python 3 (ipykernel)",
   "language": "python",
   "name": "python3"
  },
  "language_info": {
   "codemirror_mode": {
    "name": "ipython",
    "version": 3
   },
   "file_extension": ".py",
   "mimetype": "text/x-python",
   "name": "python",
   "nbconvert_exporter": "python",
   "pygments_lexer": "ipython3",
   "version": "3.12.4"
  }
 },
 "nbformat": 4,
 "nbformat_minor": 5
}
