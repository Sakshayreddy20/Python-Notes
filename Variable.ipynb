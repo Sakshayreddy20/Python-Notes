{
 "cells": [
  {
   "cell_type": "code",
   "execution_count": 3,
   "id": "4cf8a58a-6ddd-422a-8e4b-23623b24b15f",
   "metadata": {},
   "outputs": [
    {
     "name": "stdout",
     "output_type": "stream",
     "text": [
      "50\n",
      "50\n"
     ]
    }
   ],
   "source": [
    "#Variable : storing a value to the memory location.\n",
    "#rules: startes with (a,A,_)\n",
    "#There is no limit in the variable to store a number\n",
    "a = 50\n",
    "print(a)\n",
    "b = a\n",
    "print(b)"
   ]
  },
  {
   "cell_type": "code",
   "execution_count": 7,
   "id": "63e20d38-32f3-4ff5-8811-d3d8ddc54bd5",
   "metadata": {},
   "outputs": [
    {
     "name": "stdout",
     "output_type": "stream",
     "text": [
      "10\n",
      "140728859966168\n"
     ]
    }
   ],
   "source": [
    "a = 10\n",
    "print(a)\n",
    "print(id(a))"
   ]
  },
  {
   "cell_type": "code",
   "execution_count": 9,
   "id": "54f9ca0d-7f96-43cb-936e-085839fb0788",
   "metadata": {},
   "outputs": [
    {
     "name": "stdout",
     "output_type": "stream",
     "text": [
      "140728859966168\n",
      "140728859966488\n"
     ]
    }
   ],
   "source": [
    "a = 10\n",
    "b = 20\n",
    "print(id(a))\n",
    "print(id(b))"
   ]
  },
  {
   "cell_type": "code",
   "execution_count": 11,
   "id": "9020a525-b712-4ae4-827e-5e2b9512a6f3",
   "metadata": {},
   "outputs": [
    {
     "name": "stdout",
     "output_type": "stream",
     "text": [
      "john\n",
      "25\n",
      "85\n"
     ]
    }
   ],
   "source": [
    "name = \"john\"\n",
    "age = 25\n",
    "marks = 85\n",
    "print(name)\n",
    "print(age)\n",
    "print(marks)"
   ]
  },
  {
   "cell_type": "code",
   "execution_count": 17,
   "id": "148f7266-18c6-4601-83d5-f6860643beaf",
   "metadata": {},
   "outputs": [
    {
     "name": "stdout",
     "output_type": "stream",
     "text": [
      "A a\n"
     ]
    }
   ],
   "source": [
    "name1 = \"a\"\n",
    "name = \"A\"\n",
    "print(name,name1)"
   ]
  },
  {
   "cell_type": "code",
   "execution_count": 21,
   "id": "671d7c18-5583-4998-904c-d38e0564811a",
   "metadata": {},
   "outputs": [
    {
     "data": {
      "text/plain": [
       "50"
      ]
     },
     "execution_count": 21,
     "metadata": {},
     "output_type": "execute_result"
    }
   ],
   "source": [
    "x=y=z=a=50\n",
    "x\n",
    "y\n",
    "z\n",
    "a"
   ]
  },
  {
   "cell_type": "code",
   "execution_count": 27,
   "id": "cf29b4f6-c8b3-4b60-b6fb-4311fdbeffd7",
   "metadata": {},
   "outputs": [
    {
     "data": {
      "text/plain": [
       "(5, 10, 15)"
      ]
     },
     "execution_count": 27,
     "metadata": {},
     "output_type": "execute_result"
    }
   ],
   "source": [
    "a,b,c = 5,10,15\n",
    "a,b,c"
   ]
  },
  {
   "cell_type": "code",
   "execution_count": 29,
   "id": "57a3597d-ae9c-4217-8ae7-0b2018a3c48b",
   "metadata": {},
   "outputs": [
    {
     "data": {
      "text/plain": [
       "100000000000000000000000000000000000000000000000000000000000000000000000000000000000000"
      ]
     },
     "execution_count": 29,
     "metadata": {},
     "output_type": "execute_result"
    }
   ],
   "source": [
    "a = 100000000000000000000000000000000000000000000000000000000000000000000000000000000000000\n",
    "a"
   ]
  },
  {
   "cell_type": "code",
   "execution_count": null,
   "id": "7060b837-d21d-4173-84ea-fee5ea85a4d5",
   "metadata": {},
   "outputs": [],
   "source": [
    "#In variable there are 3 cases:\n",
    "1. Camel case :\n",
    "In this case each word in the middle begin with a capital letter\n",
    "ex: nameOfStudent.\n",
    "2.Pascal case:\n",
    "In this case each word begin with the capital latter\n",
    "ex:NameOfStudent\n",
    "3.snake case:\n",
    "In this case words will divide with the underscore(_)\n",
    "ex:Name_Of_Student\n"
   ]
  },
  {
   "cell_type": "code",
   "execution_count": 31,
   "id": "1e3496ce-0f49-4cb9-993e-c6edf8b559be",
   "metadata": {},
   "outputs": [],
   "source": [
    "nameOfStudent = \"camelcase\"\n",
    "NameOfStudent = \"pascal case\"\n",
    "Name_Of_Student = \"snake case\""
   ]
  },
  {
   "cell_type": "code",
   "execution_count": 33,
   "id": "c723a4e0-f766-4039-b1bb-052a0eda3577",
   "metadata": {},
   "outputs": [
    {
     "data": {
      "text/plain": [
       "5"
      ]
     },
     "execution_count": 33,
     "metadata": {},
     "output_type": "execute_result"
    }
   ],
   "source": [
    "a = 5 #assiging a value 5 to the variable a \n",
    "a"
   ]
  },
  {
   "cell_type": "code",
   "execution_count": null,
   "id": "839cff37-fdf6-4a4a-a464-2b06c2030494",
   "metadata": {},
   "outputs": [],
   "source": [
    "#python keywords"
   ]
  },
  {
   "cell_type": "code",
   "execution_count": 35,
   "id": "ec16b326-a331-45e7-b418-62e2b239651a",
   "metadata": {},
   "outputs": [
    {
     "name": "stdout",
     "output_type": "stream",
     "text": [
      "['False', 'None', 'True', 'and', 'as', 'assert', 'async', 'await', 'break', 'class', 'continue', 'def', 'del', 'elif', 'else', 'except', 'finally', 'for', 'from', 'global', 'if', 'import', 'in', 'is', 'lambda', 'nonlocal', 'not', 'or', 'pass', 'raise', 'return', 'try', 'while', 'with', 'yield']\n"
     ]
    }
   ],
   "source": [
    "import keyword\n",
    "print(keyword.kwlist)"
   ]
  },
  {
   "cell_type": "code",
   "execution_count": 37,
   "id": "cc20f82d-700a-4f81-8bf3-2a91077e230f",
   "metadata": {},
   "outputs": [
    {
     "data": {
      "text/plain": [
       "35"
      ]
     },
     "execution_count": 37,
     "metadata": {},
     "output_type": "execute_result"
    }
   ],
   "source": [
    "len(keyword.kwlist)"
   ]
  }
 ],
 "metadata": {
  "kernelspec": {
   "display_name": "Python 3 (ipykernel)",
   "language": "python",
   "name": "python3"
  },
  "language_info": {
   "codemirror_mode": {
    "name": "ipython",
    "version": 3
   },
   "file_extension": ".py",
   "mimetype": "text/x-python",
   "name": "python",
   "nbconvert_exporter": "python",
   "pygments_lexer": "ipython3",
   "version": "3.12.4"
  }
 },
 "nbformat": 4,
 "nbformat_minor": 5
}
